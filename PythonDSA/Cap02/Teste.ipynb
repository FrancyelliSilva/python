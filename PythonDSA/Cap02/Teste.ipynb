{
 "cells": [
  {
   "cell_type": "code",
   "execution_count": 1,
   "id": "299237a5-6d35-4a7f-a2f2-2e940533bd47",
   "metadata": {},
   "outputs": [
    {
     "data": {
      "text/plain": [
       "4"
      ]
     },
     "execution_count": 1,
     "metadata": {},
     "output_type": "execute_result"
    }
   ],
   "source": [
    "2+2"
   ]
  },
  {
   "cell_type": "markdown",
   "id": "8320c5bc-b039-477b-ac5e-1e8ea641d39f",
   "metadata": {},
   "source": [
    "# Print"
   ]
  },
  {
   "cell_type": "code",
   "execution_count": 2,
   "id": "f6b12d50-6731-413f-a5ec-4c58646e04b7",
   "metadata": {},
   "outputs": [
    {
     "name": "stdout",
     "output_type": "stream",
     "text": [
      "Olá Mundo!\n"
     ]
    }
   ],
   "source": [
    "print('Olá Mundo!')"
   ]
  },
  {
   "cell_type": "markdown",
   "id": "4fb60f46-0c80-4520-931a-d9aafe3b5406",
   "metadata": {},
   "source": [
    "# Criar uma lista de 1 a 101\n",
    "# Imprimica numeros pares, diviseis por 4"
   ]
  },
  {
   "cell_type": "code",
   "execution_count": 4,
   "id": "ba2ebcf6-d8e4-40b1-b012-08726df74ff4",
   "metadata": {},
   "outputs": [
    {
     "name": "stdout",
     "output_type": "stream",
     "text": [
      "4\n",
      "8\n",
      "12\n",
      "16\n",
      "20\n",
      "24\n",
      "28\n",
      "32\n",
      "36\n",
      "40\n",
      "44\n",
      "48\n",
      "52\n",
      "56\n",
      "60\n",
      "64\n",
      "68\n",
      "72\n",
      "76\n",
      "80\n",
      "84\n",
      "88\n",
      "92\n",
      "96\n",
      "100\n"
     ]
    }
   ],
   "source": [
    "numeros = list(range(1,101))\n",
    "\n",
    "for numero in numeros:\n",
    "    if numero %2 ==0 and numero % 4 == 0:\n",
    "        print(numero)"
   ]
  },
  {
   "cell_type": "markdown",
   "id": "b159bbcf-e1a5-4c4c-823e-7ebb7b2db75a",
   "metadata": {},
   "source": [
    "# Gere uma lista com os números entre 1 e 100\n",
    "# Gere uma lista com números pares, divisiveis por 4\n",
    "# Imprimir lista gerada"
   ]
  },
  {
   "cell_type": "code",
   "execution_count": 8,
   "id": "248616d0-3d42-4ed7-884a-b4b036ca88d5",
   "metadata": {},
   "outputs": [
    {
     "name": "stdout",
     "output_type": "stream",
     "text": [
      "[4, 8, 12, 16, 20, 24, 28, 32, 36, 40, 44, 48, 52, 56, 60, 64, 68, 72, 76, 80, 84, 88, 92, 96, 100]\n"
     ]
    }
   ],
   "source": [
    "numeros = list (range(1,101))\n",
    "\n",
    "pares_div4 = [numero for numero in numeros if numero % 2 == 0 and numero % 4 ==0]\n",
    "\n",
    "print(pares_div4)\n"
   ]
  },
  {
   "cell_type": "code",
   "execution_count": null,
   "id": "25c10126-f979-43d7-8410-e4d152092ead",
   "metadata": {},
   "outputs": [],
   "source": []
  }
 ],
 "metadata": {
  "kernelspec": {
   "display_name": "Python 3 (ipykernel)",
   "language": "python",
   "name": "python3"
  },
  "language_info": {
   "codemirror_mode": {
    "name": "ipython",
    "version": 3
   },
   "file_extension": ".py",
   "mimetype": "text/x-python",
   "name": "python",
   "nbconvert_exporter": "python",
   "pygments_lexer": "ipython3",
   "version": "3.12.7"
  }
 },
 "nbformat": 4,
 "nbformat_minor": 5
}
