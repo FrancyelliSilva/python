{
 "cells": [
  {
   "cell_type": "code",
   "execution_count": 1,
   "id": "6d72abbe-c210-4f16-912f-126dd334ca8d",
   "metadata": {},
   "outputs": [
    {
     "name": "stdout",
     "output_type": "stream",
     "text": [
      "Olá mundo!\n"
     ]
    }
   ],
   "source": [
    "print(\"Olá mundo!\");"
   ]
  },
  {
   "cell_type": "code",
   "execution_count": null,
   "id": "9fe961b8-7df3-41ed-9aa2-247974015af9",
   "metadata": {},
   "outputs": [],
   "source": [
    "#Importações\n",
    "import sys"
   ]
  },
  {
   "cell_type": "code",
   "execution_count": 2,
   "id": "d87c41e3-48d1-46a5-8531-ce31ab87f216",
   "metadata": {},
   "outputs": [],
   "source": [
    "#Declaração de variáveis\n",
    "preco_cenoura = 4.5\n",
    "preco_oleo = 12\n",
    "preco_acucar = 6\n",
    "preco_ovos = 12\n",
    "preco_fermento = 15\n",
    "preco_leite = 5"
   ]
  },
  {
   "cell_type": "code",
   "execution_count": 3,
   "id": "3220cdc1-f268-40ca-b9f2-0fb1e999f627",
   "metadata": {},
   "outputs": [],
   "source": [
    "def soma_ingredientes(tem_cenoura, tem_oleo, tem_acucar, tem_ovos, tem_fermento, tem_leite):\n",
    "    total_compra = 0\n",
    "    if tem_cenoura:\n",
    "        total_compra = total_compra + preco_cenoura\n",
    "    if tem_oleo:\n",
    "        total_compra = total_compra + preco_oleo\n",
    "    if tem_acucar:\n",
    "        total_compra = total_compra + preco_acucar\n",
    "    if tem_ovos:\n",
    "        total_compra = total_compra + preco_ovos\n",
    "    if tem_fermento:\n",
    "        total_compra = total_compra + preco_fermento\n",
    "    if tem_leite:\n",
    "        total_compra = total_compra + preco_leite\n",
    "\n",
    "    return total_compra"
   ]
  },
  {
   "cell_type": "code",
   "execution_count": 5,
   "id": "191ba07e-ce64-4eaa-b8e1-450c8a685041",
   "metadata": {},
   "outputs": [
    {
     "name": "stdout",
     "output_type": "stream",
     "text": [
      "Total dos ingredientes:  54.5\n"
     ]
    }
   ],
   "source": [
    "terminal_tem_cenoura =True\n",
    "terminal_tem_oleo = True\n",
    "terminal_tem_acucar = True\n",
    "terminal_tem_ovos = True\n",
    "terminal_tem_fermento = True\n",
    "terminal_tem_leite= True\n",
    "\n",
    "total = soma_ingredientes( terminal_tem_cenoura ,terminal_tem_oleo,terminal_tem_acucar,terminal_tem_ovos,terminal_tem_fermento,terminal_tem_leite)\n",
    "\n",
    "print(\"Total dos ingredientes: \", total)\n"
   ]
  },
  {
   "cell_type": "code",
   "execution_count": null,
   "id": "de94dd47-8f78-4a23-8a13-3c78d5d203ad",
   "metadata": {},
   "outputs": [],
   "source": []
  }
 ],
 "metadata": {
  "kernelspec": {
   "display_name": "Python 3 (ipykernel)",
   "language": "python",
   "name": "python3"
  },
  "language_info": {
   "codemirror_mode": {
    "name": "ipython",
    "version": 3
   },
   "file_extension": ".py",
   "mimetype": "text/x-python",
   "name": "python",
   "nbconvert_exporter": "python",
   "pygments_lexer": "ipython3",
   "version": "3.12.7"
  }
 },
 "nbformat": 4,
 "nbformat_minor": 5
}
