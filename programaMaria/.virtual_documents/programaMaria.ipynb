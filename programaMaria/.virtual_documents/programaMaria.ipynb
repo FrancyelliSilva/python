print("Olá mundo!");


#Importações
import sys


#Declaração de variáveis
preco_cenoura = 4.5
preco_oleo = 12
preco_acucar = 6
preco_ovos = 12
preco_fermento = 15
preco_leite = 5


def soma_ingredientes(tem_cenoura, tem_oleo, tem_acucar, tem_ovos, tem_fermento, tem_leite):
    total_compra = 0
    if tem_cenoura:
        total_compra = total_compra + preco_cenoura
    if tem_oleo:
        total_compra = total_compra + preco_oleo
    if tem_acucar:
        total_compra = total_compra + preco_acucar
    if tem_ovos:
        total_compra = total_compra + preco_ovos
    if tem_fermento:
        total_compra = total_compra + preco_fermento
    if tem_leite:
        total_compra = total_compra + preco_leite

    return total_compra


terminal_tem_cenoura =True
terminal_tem_oleo = True
terminal_tem_acucar = True
terminal_tem_ovos = True
terminal_tem_fermento = True
terminal_tem_leite= True

total = soma_ingredientes( terminal_tem_cenoura ,terminal_tem_oleo,terminal_tem_acucar,terminal_tem_ovos,terminal_tem_fermento,terminal_tem_leite)

print("Total dos ingredientes: ", total)




